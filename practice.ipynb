{
 "cells": [
  {
   "cell_type": "code",
   "execution_count": 180,
   "metadata": {},
   "outputs": [],
   "source": [
    "import sqlite3\n",
    "import requests\n",
    "from bs4 import BeautifulSoup\n",
    "import time"
   ]
  },
  {
   "cell_type": "code",
   "execution_count": 181,
   "metadata": {},
   "outputs": [],
   "source": [
    "# DBファイルを保存するためのファイルパス\n",
    "\n",
    "# Google Colab\n",
    "path = '/Users/riontakano/Desktop/fa/'\n",
    "\n",
    "# ローカル（自分のMac）\n",
    "# path = '../db/'\n",
    "\n",
    "# DBファイル名\n",
    "db_name = 'dsprogramming'\n",
    "\n",
    "# DBに接続する（指定したDBファイル存在しない場合は，新規に作成される）\n",
    "con = sqlite3.connect(path + db_name)\n",
    "c = con.cursor()\n",
    "# DBへの接続を閉じる\n",
    "con.close()"
   ]
  },
  {
   "cell_type": "code",
   "execution_count": 182,
   "metadata": {},
   "outputs": [],
   "source": [
    "# 1．DBに接続する\n",
    "con = sqlite3.connect(path + db_name)\n",
    "# print(type(con))\n",
    "\n",
    "# 2．SQLを実行するためのオブジェクトを取得\n",
    "cur = con.cursor()\n",
    "\n",
    "# 3．実行したいSQLを用意する\n",
    "# テーブルを作成するSQL\n",
    "# CREATE TABLE テーブル名（カラム名 型，...）;\n",
    "sql_create_table_weather = 'CREATE TABLE weather(temperature int, humidity int);'\n",
    "\n",
    "# 4．SQLを実行する\n",
    "cur.execute(sql_create_table_weather)\n",
    "\n",
    "# 5．必要があればコミットする（データ変更等があった場合）\n",
    "# 今回は必要なし\n",
    "\n",
    "# 6．DBへの接続を閉じる\n",
    "con.close()"
   ]
  },
  {
   "cell_type": "code",
   "execution_count": 183,
   "metadata": {},
   "outputs": [
    {
     "data": {
      "text/plain": [
       "[<tr class=\"mtx\"><th rowspan=\"2\" scope=\"col\">時</th><th colspan=\"2\" scope=\"colgroup\">気圧(hPa)</th><th rowspan=\"2\" scope=\"col\">降水量<br/>(mm)</th><th rowspan=\"2\" scope=\"col\">気温<br/>(℃)</th><th rowspan=\"2\" scope=\"col\">露点<br/>温度<br/>(℃)</th><th rowspan=\"2\" scope=\"col\">蒸気圧<br/>(hPa)</th><th rowspan=\"2\" scope=\"col\">湿度<br/>(％)</th><th colspan=\"2\" scope=\"colgroup\">風向・風速(m/s)</th><th rowspan=\"2\" scope=\"col\">日照<br/>時間<br/>(h)</th><th rowspan=\"2\" scope=\"col\">全天<br/>日射量<br/>(MJ/㎡)</th><th colspan=\"2\" scope=\"colgroup\">雪(cm)</th><th rowspan=\"2\" scope=\"col\">天気</th><th rowspan=\"2\" scope=\"col\">雲量</th><th rowspan=\"2\" scope=\"col\">視程<br/>(km)</th></tr>,\n",
       " <tr class=\"mtx\"><th scope=\"col\">現地</th><th scope=\"col\">海面</th><th scope=\"col\">風速</th><th scope=\"col\">風向</th><th scope=\"col\">降雪</th><th scope=\"col\">積雪</th></tr>,\n",
       " <tr class=\"mtx\" style=\"text-align:right;\"><td style=\"white-space:nowrap\">1</td><td class=\"data_0_0\">1011.8</td><td class=\"data_0_0\">1012.6</td><td class=\"data_0_0\">--</td><td class=\"data_0_0\">4.1</td><td class=\"data_0_0\">-5.9</td><td class=\"data_0_0\">3.9</td><td class=\"data_0_0\">48</td><td class=\"data_0_0\">1.7</td><td class=\"data_0_0\" style=\"text-align:center\">北北西</td><td class=\"data_0_0\"></td><td class=\"data_0_0\"></td><td class=\"data_0_0\">--</td><td class=\"data_0_0\">--</td><td class=\"data_0_0\"><img alt=\"晴れ\" src=\"../../data/image/tenki/large/F8A0.gif\"/></td><td class=\"data_0_0\"></td><td class=\"data_0_0\">20.0</td></tr>,\n",
       " <tr class=\"mtx\" style=\"text-align:right;\"><td style=\"white-space:nowrap\">2</td><td class=\"data_0_0\">1012.2</td><td class=\"data_0_0\">1013.0</td><td class=\"data_0_0\">--</td><td class=\"data_0_0\">2.8</td><td class=\"data_0_0\">-5.6</td><td class=\"data_0_0\">4.0</td><td class=\"data_0_0\">54</td><td class=\"data_0_0\">2.7</td><td class=\"data_0_0\" style=\"text-align:center\">北北西</td><td class=\"data_0_0\"></td><td class=\"data_0_0\"></td><td class=\"data_0_0\">--</td><td class=\"data_0_0\">--</td><td class=\"data_0_0\"><img alt=\"晴れ\" src=\"../../data/image/tenki/large/F8A0.gif\"/></td><td class=\"data_0_0\"></td><td class=\"data_0_0\">20.0</td></tr>,\n",
       " <tr class=\"mtx\" style=\"text-align:right;\"><td style=\"white-space:nowrap\">3</td><td class=\"data_0_0\">1011.1</td><td class=\"data_0_0\">1011.9</td><td class=\"data_0_0\">--</td><td class=\"data_0_0\">2.4</td><td class=\"data_0_0\">-6.4</td><td class=\"data_0_0\">3.8</td><td class=\"data_0_0\">52</td><td class=\"data_0_0\">1.3</td><td class=\"data_0_0\" style=\"text-align:center\">北</td><td class=\"data_0_0\"></td><td class=\"data_0_0\"></td><td class=\"data_0_0\">--</td><td class=\"data_0_0\">--</td><td class=\"data_0_0\"><img alt=\"晴れ\" src=\"../../data/image/tenki/large/F8A0.gif\"/></td><td class=\"data_0_0\"></td><td class=\"data_0_0\">20.0</td></tr>,\n",
       " <tr class=\"mtx\" style=\"text-align:right;\"><td style=\"white-space:nowrap\">4</td><td class=\"data_0_0\">1010.9</td><td class=\"data_0_0\">1011.7</td><td class=\"data_0_0\">--</td><td class=\"data_0_0\">2.1</td><td class=\"data_0_0\">-6.2</td><td class=\"data_0_0\">3.8</td><td class=\"data_0_0\">54</td><td class=\"data_0_0\">1.7</td><td class=\"data_0_0\" style=\"text-align:center\">北北西</td><td class=\"data_0_0\"></td><td class=\"data_0_0\"></td><td class=\"data_0_0\">--</td><td class=\"data_0_0\">--</td><td class=\"data_0_0\"><img alt=\"晴れ\" src=\"../../data/image/tenki/large/F8A0.gif\"/></td><td class=\"data_0_0\"></td><td class=\"data_0_0\">20.0</td></tr>,\n",
       " <tr class=\"mtx\" style=\"text-align:right;\"><td style=\"white-space:nowrap\">5</td><td class=\"data_0_0\">1010.5</td><td class=\"data_0_0\">1011.3</td><td class=\"data_0_0\">--</td><td class=\"data_0_0\">1.9</td><td class=\"data_0_0\">-6.4</td><td class=\"data_0_0\">3.8</td><td class=\"data_0_0\">54</td><td class=\"data_0_0\">1.7</td><td class=\"data_0_0\" style=\"text-align:center\">北北西</td><td class=\"data_0_0\"></td><td class=\"data_0_0\"></td><td class=\"data_0_0\">--</td><td class=\"data_0_0\">--</td><td class=\"data_0_0\"><img alt=\"晴れ\" src=\"../../data/image/tenki/large/F8A0.gif\"/></td><td class=\"data_0_0\"></td><td class=\"data_0_0\">20.0</td></tr>,\n",
       " <tr class=\"mtx\" style=\"text-align:right;\"><td style=\"white-space:nowrap\">6</td><td class=\"data_0_0\">1010.3</td><td class=\"data_0_0\">1011.1</td><td class=\"data_0_0\">--</td><td class=\"data_0_0\">1.7</td><td class=\"data_0_0\">-7.3</td><td class=\"data_0_0\">3.5</td><td class=\"data_0_0\">51</td><td class=\"data_0_0\">3.9</td><td class=\"data_0_0\" style=\"text-align:center\">北北西</td><td class=\"data_0_0\"></td><td class=\"data_0_0\"></td><td class=\"data_0_0\">--</td><td class=\"data_0_0\">--</td><td class=\"data_0_0\"><img alt=\"晴れ\" src=\"../../data/image/tenki/large/F8A0.gif\"/></td><td class=\"data_0_0\"></td><td class=\"data_0_0\">20.0</td></tr>,\n",
       " <tr class=\"mtx\" style=\"text-align:right;\"><td style=\"white-space:nowrap\">7</td><td class=\"data_0_0\">1010.2</td><td class=\"data_0_0\">1011.0</td><td class=\"data_0_0\">--</td><td class=\"data_0_0\">1.3</td><td class=\"data_0_0\">-6.7</td><td class=\"data_0_0\">3.7</td><td class=\"data_0_0\">55</td><td class=\"data_0_0\">1.9</td><td class=\"data_0_0\" style=\"text-align:center\">北北西</td><td class=\"data_0_0\">0.0</td><td class=\"data_0_0\"></td><td class=\"data_0_0\">--</td><td class=\"data_0_0\">--</td><td class=\"data_0_0\"><img alt=\"晴れ\" src=\"../../data/image/tenki/large/F8A0.gif\"/></td><td class=\"data_0_0\"></td><td class=\"data_0_0\">20.0</td></tr>,\n",
       " <tr class=\"mtx\" style=\"text-align:right;\"><td style=\"white-space:nowrap\">8</td><td class=\"data_0_0\">1010.0</td><td class=\"data_0_0\">1010.8</td><td class=\"data_0_0\">--</td><td class=\"data_0_0\">2.1</td><td class=\"data_0_0\">-5.7</td><td class=\"data_0_0\">4.0</td><td class=\"data_0_0\">56</td><td class=\"data_0_0\">2.0</td><td class=\"data_0_0\" style=\"text-align:center\">北西</td><td class=\"data_0_0\">1.0</td><td class=\"data_0_0\"></td><td class=\"data_0_0\">--</td><td class=\"data_0_0\">--</td><td class=\"data_0_0\"><img alt=\"晴れ\" src=\"../../data/image/tenki/large/F8A0.gif\"/></td><td class=\"data_0_0\"></td><td class=\"data_0_0\">20.0</td></tr>,\n",
       " <tr class=\"mtx\" style=\"text-align:right;\"><td style=\"white-space:nowrap\">9</td><td class=\"data_0_0\">1009.7</td><td class=\"data_0_0\">1010.5</td><td class=\"data_0_0\">--</td><td class=\"data_0_0\">4.2</td><td class=\"data_0_0\">-6.4</td><td class=\"data_0_0\">3.8</td><td class=\"data_0_0\">46</td><td class=\"data_0_0\">1.4</td><td class=\"data_0_0\" style=\"text-align:center\">北北西</td><td class=\"data_0_0\">1.0</td><td class=\"data_0_0\"></td><td class=\"data_0_0\">--</td><td class=\"data_0_0\">--</td><td class=\"data_0_0\"><img alt=\"晴れ\" src=\"../../data/image/tenki/large/F8A0.gif\"/></td><td class=\"data_0_0\"></td><td class=\"data_0_0\">20.0</td></tr>,\n",
       " <tr class=\"mtx\" style=\"text-align:right;\"><td style=\"white-space:nowrap\">10</td><td class=\"data_0_0\">1008.8</td><td class=\"data_0_0\">1009.5</td><td class=\"data_0_0\">--</td><td class=\"data_0_0\">6.8</td><td class=\"data_0_0\">-5.2</td><td class=\"data_0_0\">4.2</td><td class=\"data_0_0\">42</td><td class=\"data_0_0\">0.9</td><td class=\"data_0_0\" style=\"text-align:center\">西</td><td class=\"data_0_0\">1.0</td><td class=\"data_0_0\"></td><td class=\"data_0_0\">--</td><td class=\"data_0_0\">--</td><td class=\"data_0_0\"><img alt=\"晴れ\" src=\"../../data/image/tenki/large/F8A0.gif\"/></td><td class=\"data_0_0\"></td><td class=\"data_0_0\">20.0</td></tr>,\n",
       " <tr class=\"mtx\" style=\"text-align:right;\"><td style=\"white-space:nowrap\">11</td><td class=\"data_0_0\">1007.7</td><td class=\"data_0_0\">1008.4</td><td class=\"data_0_0\">--</td><td class=\"data_0_0\">7.9</td><td class=\"data_0_0\">-1.9</td><td class=\"data_0_0\">5.3</td><td class=\"data_0_0\">50</td><td class=\"data_0_0\">2.3</td><td class=\"data_0_0\" style=\"text-align:center\">西南西</td><td class=\"data_0_0\">1.0</td><td class=\"data_0_0\"></td><td class=\"data_0_0\">--</td><td class=\"data_0_0\">--</td><td class=\"data_0_0\"><img alt=\"晴れ\" src=\"../../data/image/tenki/large/F8A0.gif\"/></td><td class=\"data_0_0\"></td><td class=\"data_0_0\">20.0</td></tr>,\n",
       " <tr class=\"mtx\" style=\"text-align:right;\"><td style=\"white-space:nowrap\">12</td><td class=\"data_0_0\">1006.6</td><td class=\"data_0_0\">1007.3</td><td class=\"data_0_0\">--</td><td class=\"data_0_0\">9.2</td><td class=\"data_0_0\">-0.1</td><td class=\"data_0_0\">6.1</td><td class=\"data_0_0\">52</td><td class=\"data_0_0\">2.7</td><td class=\"data_0_0\" style=\"text-align:center\">西南西</td><td class=\"data_0_0\">1.0</td><td class=\"data_0_0\"></td><td class=\"data_0_0\">--</td><td class=\"data_0_0\">--</td><td class=\"data_0_0\"><img alt=\"晴れ\" src=\"../../data/image/tenki/large/F8A0.gif\"/></td><td class=\"data_0_0\"></td><td class=\"data_0_0\">20.0</td></tr>,\n",
       " <tr class=\"mtx\" style=\"text-align:right;\"><td style=\"white-space:nowrap\">13</td><td class=\"data_0_0\">1005.8</td><td class=\"data_0_0\">1006.5</td><td class=\"data_0_0\">--</td><td class=\"data_0_0\">11.2</td><td class=\"data_0_0\">2.0</td><td class=\"data_0_0\">7.1</td><td class=\"data_0_0\">53</td><td class=\"data_0_0\">2.4</td><td class=\"data_0_0\" style=\"text-align:center\">西北西</td><td class=\"data_0_0\">1.0</td><td class=\"data_0_0\"></td><td class=\"data_0_0\">--</td><td class=\"data_0_0\">--</td><td class=\"data_0_0\"><img alt=\"晴れ\" src=\"../../data/image/tenki/large/F8A0.gif\"/></td><td class=\"data_0_0\"></td><td class=\"data_0_0\">20.0</td></tr>,\n",
       " <tr class=\"mtx\" style=\"text-align:right;\"><td style=\"white-space:nowrap\">14</td><td class=\"data_0_0\">1005.2</td><td class=\"data_0_0\">1005.9</td><td class=\"data_0_0\">--</td><td class=\"data_0_0\">12.3</td><td class=\"data_0_0\">3.5</td><td class=\"data_0_0\">7.9</td><td class=\"data_0_0\">55</td><td class=\"data_0_0\">2.5</td><td class=\"data_0_0\" style=\"text-align:center\">西</td><td class=\"data_0_0\">1.0</td><td class=\"data_0_0\"></td><td class=\"data_0_0\">--</td><td class=\"data_0_0\">--</td><td class=\"data_0_0\"><img alt=\"晴れ\" src=\"../../data/image/tenki/large/F8A0.gif\"/></td><td class=\"data_0_0\"></td><td class=\"data_0_0\">20.0</td></tr>,\n",
       " <tr class=\"mtx\" style=\"text-align:right;\"><td style=\"white-space:nowrap\">15</td><td class=\"data_0_0\">1005.6</td><td class=\"data_0_0\">1006.3</td><td class=\"data_0_0\">--</td><td class=\"data_0_0\">13.8</td><td class=\"data_0_0\">3.9</td><td class=\"data_0_0\">8.0</td><td class=\"data_0_0\">51</td><td class=\"data_0_0\">5.5</td><td class=\"data_0_0\" style=\"text-align:center\">南西</td><td class=\"data_0_0\">1.0</td><td class=\"data_0_0\"></td><td class=\"data_0_0\">--</td><td class=\"data_0_0\">--</td><td class=\"data_0_0\"><img alt=\"晴れ\" src=\"../../data/image/tenki/large/F8A0.gif\"/></td><td class=\"data_0_0\"></td><td class=\"data_0_0\">20.0</td></tr>,\n",
       " <tr class=\"mtx\" style=\"text-align:right;\"><td style=\"white-space:nowrap\">16</td><td class=\"data_0_0\">1005.7</td><td class=\"data_0_0\">1006.4</td><td class=\"data_0_0\">--</td><td class=\"data_0_0\">13.3</td><td class=\"data_0_0\">4.7</td><td class=\"data_0_0\">8.6</td><td class=\"data_0_0\">56</td><td class=\"data_0_0\">4.2</td><td class=\"data_0_0\" style=\"text-align:center\">南西</td><td class=\"data_0_0\">1.0</td><td class=\"data_0_0\"></td><td class=\"data_0_0\">--</td><td class=\"data_0_0\">--</td><td class=\"data_0_0\"><img alt=\"晴れ\" src=\"../../data/image/tenki/large/F8A0.gif\"/></td><td class=\"data_0_0\"></td><td class=\"data_0_0\">20.0</td></tr>,\n",
       " <tr class=\"mtx\" style=\"text-align:right;\"><td style=\"white-space:nowrap\">17</td><td class=\"data_0_0\">1005.9</td><td class=\"data_0_0\">1006.6</td><td class=\"data_0_0\">--</td><td class=\"data_0_0\">12.7</td><td class=\"data_0_0\">4.4</td><td class=\"data_0_0\">8.4</td><td class=\"data_0_0\">57</td><td class=\"data_0_0\">3.6</td><td class=\"data_0_0\" style=\"text-align:center\">南西</td><td class=\"data_0_0\">0.6</td><td class=\"data_0_0\"></td><td class=\"data_0_0\">--</td><td class=\"data_0_0\">--</td><td class=\"data_0_0\"><img alt=\"晴れ\" src=\"../../data/image/tenki/large/F8A0.gif\"/></td><td class=\"data_0_0\"></td><td class=\"data_0_0\">20.0</td></tr>,\n",
       " <tr class=\"mtx\" style=\"text-align:right;\"><td style=\"white-space:nowrap\">18</td><td class=\"data_0_0\">1006.1</td><td class=\"data_0_0\">1006.8</td><td class=\"data_0_0\">--</td><td class=\"data_0_0\">12.8</td><td class=\"data_0_0\">3.7</td><td class=\"data_0_0\">8.0</td><td class=\"data_0_0\">54</td><td class=\"data_0_0\">3.4</td><td class=\"data_0_0\" style=\"text-align:center\">南西</td><td class=\"data_0_0\"></td><td class=\"data_0_0\"></td><td class=\"data_0_0\">--</td><td class=\"data_0_0\">--</td><td class=\"data_0_0\"><img alt=\"晴れ\" src=\"../../data/image/tenki/large/F8A0.gif\"/></td><td class=\"data_0_0\"></td><td class=\"data_0_0\">20.0</td></tr>,\n",
       " <tr class=\"mtx\" style=\"text-align:right;\"><td style=\"white-space:nowrap\">19</td><td class=\"data_0_0\">1006.8</td><td class=\"data_0_0\">1007.5</td><td class=\"data_0_0\">--</td><td class=\"data_0_0\">12.5</td><td class=\"data_0_0\">6.8</td><td class=\"data_0_0\">9.9</td><td class=\"data_0_0\">68</td><td class=\"data_0_0\">2.0</td><td class=\"data_0_0\" style=\"text-align:center\">西南西</td><td class=\"data_0_0\"></td><td class=\"data_0_0\"></td><td class=\"data_0_0\">--</td><td class=\"data_0_0\">--</td><td class=\"data_0_0\"><img alt=\"晴れ\" src=\"../../data/image/tenki/large/F8A0.gif\"/></td><td class=\"data_0_0\"></td><td class=\"data_0_0\">20.0</td></tr>,\n",
       " <tr class=\"mtx\" style=\"text-align:right;\"><td style=\"white-space:nowrap\">20</td><td class=\"data_0_0\">1007.3</td><td class=\"data_0_0\">1008.0</td><td class=\"data_0_0\">--</td><td class=\"data_0_0\">10.6</td><td class=\"data_0_0\">4.7</td><td class=\"data_0_0\">8.6</td><td class=\"data_0_0\">67</td><td class=\"data_0_0\">1.4</td><td class=\"data_0_0\" style=\"text-align:center\">北</td><td class=\"data_0_0\"></td><td class=\"data_0_0\"></td><td class=\"data_0_0\">--</td><td class=\"data_0_0\">--</td><td class=\"data_0_0\"><img alt=\"晴れ\" src=\"../../data/image/tenki/large/F8A0.gif\"/></td><td class=\"data_0_0\"></td><td class=\"data_0_0\">20.0</td></tr>,\n",
       " <tr class=\"mtx\" style=\"text-align:right;\"><td style=\"white-space:nowrap\">21</td><td class=\"data_0_0\">1007.5</td><td class=\"data_0_0\">1008.2</td><td class=\"data_0_0\">--</td><td class=\"data_0_0\">9.9</td><td class=\"data_0_0\">0.5</td><td class=\"data_0_0\">6.3</td><td class=\"data_0_0\">52</td><td class=\"data_0_0\">1.7</td><td class=\"data_0_0\" style=\"text-align:center\">北北東</td><td class=\"data_0_0\"></td><td class=\"data_0_0\"></td><td class=\"data_0_0\">--</td><td class=\"data_0_0\">--</td><td class=\"data_0_0\"><img alt=\"晴れ\" src=\"../../data/image/tenki/large/F8A0.gif\"/></td><td class=\"data_0_0\"></td><td class=\"data_0_0\">20.0</td></tr>,\n",
       " <tr class=\"mtx\" style=\"text-align:right;\"><td style=\"white-space:nowrap\">22</td><td class=\"data_0_0\">1007.9</td><td class=\"data_0_0\">1008.6</td><td class=\"data_0_0\">--</td><td class=\"data_0_0\">9.0</td><td class=\"data_0_0\">0.5</td><td class=\"data_0_0\">6.3</td><td class=\"data_0_0\">55</td><td class=\"data_0_0\">2.3</td><td class=\"data_0_0\" style=\"text-align:center\">北北東</td><td class=\"data_0_0\"></td><td class=\"data_0_0\"></td><td class=\"data_0_0\">--</td><td class=\"data_0_0\">--</td><td class=\"data_0_0\"><img alt=\"晴れ\" src=\"../../data/image/tenki/large/F8A0.gif\"/></td><td class=\"data_0_0\"></td><td class=\"data_0_0\">20.0</td></tr>,\n",
       " <tr class=\"mtx\" style=\"text-align:right;\"><td style=\"white-space:nowrap\">23</td><td class=\"data_0_0\">1008.4</td><td class=\"data_0_0\">1009.1</td><td class=\"data_0_0\">--</td><td class=\"data_0_0\">7.4</td><td class=\"data_0_0\">-0.8</td><td class=\"data_0_0\">5.8</td><td class=\"data_0_0\">56</td><td class=\"data_0_0\">2.1</td><td class=\"data_0_0\" style=\"text-align:center\">北</td><td class=\"data_0_0\"></td><td class=\"data_0_0\"></td><td class=\"data_0_0\">--</td><td class=\"data_0_0\">--</td><td class=\"data_0_0\"><img alt=\"晴れ\" src=\"../../data/image/tenki/large/F8A0.gif\"/></td><td class=\"data_0_0\"></td><td class=\"data_0_0\">20.0</td></tr>,\n",
       " <tr class=\"mtx\" style=\"text-align:right;\"><td style=\"white-space:nowrap\">24</td><td class=\"data_0_0\">1008.6</td><td class=\"data_0_0\">1009.3</td><td class=\"data_0_0\">--</td><td class=\"data_0_0\">6.5</td><td class=\"data_0_0\">-0.9</td><td class=\"data_0_0\">5.7</td><td class=\"data_0_0\">59</td><td class=\"data_0_0\">2.4</td><td class=\"data_0_0\" style=\"text-align:center\">北東</td><td class=\"data_0_0\"></td><td class=\"data_0_0\"></td><td class=\"data_0_0\">--</td><td class=\"data_0_0\">--</td><td class=\"data_0_0\"><img alt=\"晴れ\" src=\"../../data/image/tenki/large/F8A0.gif\"/></td><td class=\"data_0_0\"></td><td class=\"data_0_0\">20.0</td></tr>,\n",
       " <ul class=\"pagelink mtx\"><li><a href=\"../../data/mdrr/man/first.html\">利用される方へ</a></li></ul>,\n",
       " <ul class=\"pagelink mtx\"><li><a href=\"../../data/mdrr/faq/index_k.html\">よくある質問（FAQ）</a></li></ul>,\n",
       " <ul class=\"pagelink mtx\"><li><a href=\"../../data/kaisetu/index.html\">気象観測統計の解説</a></li></ul>,\n",
       " <ul class=\"pagelink mtx\"><li><a href=\"//www.jma.go.jp/jma/press/tenko.html\">年・季節・各月の天候</a></li></ul>]"
      ]
     },
     "execution_count": 183,
     "metadata": {},
     "output_type": "execute_result"
    }
   ],
   "source": [
    "url = 'https://www.data.jma.go.jp/obd/stats/etrn/view/hourly_s1.php?prec_no=45&block_no=47682&year=2024&month=1&day=12&view='\n",
    "\n",
    "response = requests.get(url)\n",
    "response.encoding = 'utf-8'\n",
    "soup = BeautifulSoup(response.text, \"html.parser\")\n",
    "time.sleep(1)\n",
    "soup.find_all(attrs={'class': 'mtx'})\n",
    "\n"
   ]
  },
  {
   "cell_type": "code",
   "execution_count": 184,
   "metadata": {},
   "outputs": [
    {
     "name": "stdout",
     "output_type": "stream",
     "text": [
      "時気圧(hPa)降水量(mm)気温(℃)露点温度(℃)蒸気圧(hPa)湿度(％)風向・風速(m/s)日照時間(h)全天日射量(MJ/㎡)雪(cm)天気雲量視程(km)\n",
      "現地海面風速風向降雪積雪\n",
      "11011.81012.6--4.1-5.93.9481.7北北西----20.0\n",
      "21012.21013.0--2.8-5.64.0542.7北北西----20.0\n",
      "31011.11011.9--2.4-6.43.8521.3北----20.0\n",
      "41010.91011.7--2.1-6.23.8541.7北北西----20.0\n",
      "51010.51011.3--1.9-6.43.8541.7北北西----20.0\n",
      "61010.31011.1--1.7-7.33.5513.9北北西----20.0\n",
      "71010.21011.0--1.3-6.73.7551.9北北西0.0----20.0\n",
      "81010.01010.8--2.1-5.74.0562.0北西1.0----20.0\n",
      "91009.71010.5--4.2-6.43.8461.4北北西1.0----20.0\n",
      "101008.81009.5--6.8-5.24.2420.9西1.0----20.0\n",
      "111007.71008.4--7.9-1.95.3502.3西南西1.0----20.0\n",
      "121006.61007.3--9.2-0.16.1522.7西南西1.0----20.0\n",
      "131005.81006.5--11.22.07.1532.4西北西1.0----20.0\n",
      "141005.21005.9--12.33.57.9552.5西1.0----20.0\n",
      "151005.61006.3--13.83.98.0515.5南西1.0----20.0\n",
      "161005.71006.4--13.34.78.6564.2南西1.0----20.0\n",
      "171005.91006.6--12.74.48.4573.6南西0.6----20.0\n",
      "181006.11006.8--12.83.78.0543.4南西----20.0\n",
      "191006.81007.5--12.56.89.9682.0西南西----20.0\n",
      "201007.31008.0--10.64.78.6671.4北----20.0\n",
      "211007.51008.2--9.90.56.3521.7北北東----20.0\n",
      "221007.91008.6--9.00.56.3552.3北北東----20.0\n",
      "231008.41009.1--7.4-0.85.8562.1北----20.0\n",
      "241008.61009.3--6.5-0.95.7592.4北東----20.0\n",
      "利用される方へ\n",
      "よくある質問（FAQ）\n",
      "気象観測統計の解説\n",
      "年・季節・各月の天候\n"
     ]
    }
   ],
   "source": [
    "url = 'https://www.data.jma.go.jp/obd/stats/etrn/view/hourly_s1.php?prec_no=45&block_no=47682&year=2024&month=1&day=12&view='\n",
    "\n",
    "response = requests.get(url)\n",
    "response.encoding = 'utf-8'\n",
    "soup = BeautifulSoup(response.text, \"html.parser\")\n",
    "time.sleep(1)\n",
    "\n",
    "# Find all elements with class 'mtx'\n",
    "elements_with_class_mtx = soup.find_all(attrs={'class': 'mtx'})\n",
    "\n",
    "# Extract and print the text content from each element\n",
    "for element in elements_with_class_mtx:\n",
    "    text = element.get_text(strip=True)\n",
    "    print(text)\n"
   ]
  },
  {
   "cell_type": "code",
   "execution_count": 185,
   "metadata": {},
   "outputs": [
    {
     "name": "stdout",
     "output_type": "stream",
     "text": [
      "気温: 4.1\n",
      "気温: 2.8\n",
      "気温: 2.4\n",
      "気温: 2.1\n",
      "気温: 1.9\n",
      "気温: 1.7\n",
      "気温: 1.3\n",
      "気温: 2.1\n",
      "気温: 4.2\n",
      "気温: 6.8\n",
      "気温: 7.9\n",
      "気温: 9.2\n",
      "気温: 11.2\n",
      "気温: 12.3\n",
      "気温: 13.8\n",
      "気温: 13.3\n",
      "気温: 12.7\n",
      "気温: 12.8\n",
      "気温: 12.5\n",
      "気温: 10.6\n",
      "気温: 9.9\n",
      "気温: 9.0\n",
      "気温: 7.4\n",
      "気温: 6.5\n"
     ]
    }
   ],
   "source": [
    "url = 'https://www.data.jma.go.jp/obd/stats/etrn/view/hourly_s1.php?prec_no=45&block_no=47682&year=2024&month=1&day=12&view='\n",
    "\n",
    "response = requests.get(url)\n",
    "response.encoding = 'utf-8'\n",
    "soup = BeautifulSoup(response.text, \"html.parser\")\n",
    "time.sleep(1)\n",
    "\n",
    "# Find all elements with class 'mtx'\n",
    "elements_with_class_mtx = soup.find_all(attrs={'class': 'mtx'})\n",
    "\n",
    "# Extract and print the temperature data from the third column\n",
    "for element in elements_with_class_mtx:\n",
    "    columns = element.find_all('td')\n",
    "    if len(columns) >= 3:  # Check if there are at least three columns\n",
    "        temperature_data = columns[4].get_text(strip=True)\n",
    "        print(\"気温:\", temperature_data)\n"
   ]
  },
  {
   "cell_type": "code",
   "execution_count": 190,
   "metadata": {},
   "outputs": [
    {
     "name": "stdout",
     "output_type": "stream",
     "text": [
      "湿度: 48\n",
      "湿度: 54\n",
      "湿度: 52\n",
      "湿度: 54\n",
      "湿度: 54\n",
      "湿度: 51\n",
      "湿度: 55\n",
      "湿度: 56\n",
      "湿度: 46\n",
      "湿度: 42\n",
      "湿度: 50\n",
      "湿度: 52\n",
      "湿度: 53\n",
      "湿度: 55\n",
      "湿度: 51\n",
      "湿度: 56\n",
      "湿度: 57\n",
      "湿度: 54\n",
      "湿度: 68\n",
      "湿度: 67\n",
      "湿度: 52\n",
      "湿度: 55\n",
      "湿度: 56\n",
      "湿度: 59\n"
     ]
    }
   ],
   "source": [
    "url = 'https://www.data.jma.go.jp/obd/stats/etrn/view/hourly_s1.php?prec_no=45&block_no=47682&year=2024&month=1&day=12&view='\n",
    "\n",
    "response = requests.get(url)\n",
    "response.encoding = 'utf-8'\n",
    "soup = BeautifulSoup(response.text, \"html.parser\")\n",
    "time.sleep(1)\n",
    "\n",
    "# Find all elements with class 'mtx'\n",
    "elements_with_class_mtx = soup.find_all(attrs={'class': 'mtx'})\n",
    "\n",
    "# Extract and print the temperature data from the third column\n",
    "for element in elements_with_class_mtx:\n",
    "    columns = element.find_all('td')\n",
    "    if len(columns) >= 3:  # Check if there are at least three columns\n",
    "        humidity_data = columns[7].get_text(strip=True)\n",
    "        print(\"湿度:\", humidity_data)"
   ]
  },
  {
   "cell_type": "code",
   "execution_count": 187,
   "metadata": {},
   "outputs": [
    {
     "name": "stdout",
     "output_type": "stream",
     "text": [
      "気温と湿度データリスト: [('4.1', '48'), ('2.8', '54'), ('2.4', '52'), ('2.1', '54'), ('1.9', '54'), ('1.7', '51'), ('1.3', '55'), ('2.1', '56'), ('4.2', '46'), ('6.8', '42'), ('7.9', '50'), ('9.2', '52'), ('11.2', '53'), ('12.3', '55'), ('13.8', '51'), ('13.3', '56'), ('12.7', '57'), ('12.8', '54'), ('12.5', '68'), ('10.6', '67'), ('9.9', '52'), ('9.0', '55'), ('7.4', '56'), ('6.5', '59')]\n"
     ]
    }
   ],
   "source": [
    "import requests\n",
    "from bs4 import BeautifulSoup\n",
    "import time\n",
    "\n",
    "url = 'https://www.data.jma.go.jp/obd/stats/etrn/view/hourly_s1.php?prec_no=45&block_no=47682&year=2024&month=1&day=12&view='\n",
    "\n",
    "response = requests.get(url)\n",
    "response.encoding = 'utf-8'\n",
    "soup = BeautifulSoup(response.text, \"html.parser\")\n",
    "time.sleep(1)\n",
    "\n",
    "# Find all elements with class 'mtx'\n",
    "elements_with_class_mtx = soup.find_all(attrs={'class': 'mtx'})\n",
    "\n",
    "# Data list to store temperature and humidity pairs\n",
    "temperature_humidity_data_list = []\n",
    "\n",
    "# Extract and append temperature and humidity data from the fourth and eighth columns, respectively\n",
    "for element in elements_with_class_mtx:\n",
    "    columns = element.find_all('td')\n",
    "    if len(columns) >= 8:  # Check if there are at least eight columns\n",
    "        temperature_data = columns[4].get_text(strip=True)\n",
    "        humidity_data = columns[7].get_text(strip=True)\n",
    "        temperature_humidity_data_list.append((temperature_data, humidity_data))\n",
    "\n",
    "# Display the extracted temperature and humidity data list\n",
    "print(\"気温と湿度データリスト:\", temperature_humidity_data_list)\n"
   ]
  },
  {
   "cell_type": "code",
   "execution_count": 188,
   "metadata": {},
   "outputs": [],
   "source": [
    "# 例として、文字列から浮動小数点数に変換する\n",
    "temperature = float(temperature_data)\n",
    "humidity = float(humidity_data)\n",
    "\n",
    "# データベースへの接続\n",
    "con = sqlite3.connect(\"dsprogramming\")\n",
    "c = con.cursor()\n",
    "\n",
    "# データベースに挿入\n",
    "c.execute(\"INSERT INTO weather(temperature, humidity) VALUES (?, ?)\", (temperature, humidity))\n",
    "con.commit()\n",
    "\n",
    "# データベースのコネクションを閉じる\n",
    "con.close()"
   ]
  },
  {
   "cell_type": "code",
   "execution_count": 189,
   "metadata": {},
   "outputs": [],
   "source": [
    "import sqlite3\n",
    "\n",
    "# データベースへの接続\n",
    "con = sqlite3.connect(\"dsprogramming\")\n",
    "c = con.cursor()\n",
    "\n",
    "# データの取得とデータベースへの挿入\n",
    "for temperature, humidity in temperature_humidity_data_list:\n",
    "    # 例として、文字列から浮動小数点数に変換する\n",
    "    temperature = float(temperature)\n",
    "    humidity = float(humidity)\n",
    "\n",
    "    # データベースに挿入\n",
    "    c.execute(\"INSERT INTO weather(temperature, humidity) VALUES (?, ?)\", (temperature, humidity))\n",
    "\n",
    "# データベースへの変更をコミット\n",
    "con.commit()\n",
    "\n",
    "# データベースのコネクションを閉じる\n",
    "con.close()\n"
   ]
  }
 ],
 "metadata": {
  "kernelspec": {
   "display_name": "Python 3",
   "language": "python",
   "name": "python3"
  },
  "language_info": {
   "codemirror_mode": {
    "name": "ipython",
    "version": 3
   },
   "file_extension": ".py",
   "mimetype": "text/x-python",
   "name": "python",
   "nbconvert_exporter": "python",
   "pygments_lexer": "ipython3",
   "version": "3.11.3"
  }
 },
 "nbformat": 4,
 "nbformat_minor": 2
}

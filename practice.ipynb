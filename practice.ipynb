{
 "cells": [
  {
   "cell_type": "code",
   "execution_count": null,
   "metadata": {},
   "outputs": [],
   "source": [
    "!pip install requests"
   ]
  },
  {
   "cell_type": "code",
   "execution_count": null,
   "metadata": {},
   "outputs": [],
   "source": [
    "!pip install BeautifulSoup4"
   ]
  },
  {
   "cell_type": "code",
   "execution_count": 70,
   "metadata": {},
   "outputs": [],
   "source": [
    "import sqlite3\n",
    "import requests\n",
    "from bs4 import BeautifulSoup\n",
    "import time"
   ]
  },
  {
   "cell_type": "code",
   "execution_count": 71,
   "metadata": {},
   "outputs": [],
   "source": [
    "# DBファイルを保存するためのファイルパス\n",
    "\n",
    "# Google Colab\n",
    "path = '/Users/riontakano/Desktop/fa/'\n",
    "\n",
    "# ローカル（自分のMac）\n",
    "# path = '../db/'\n",
    "\n",
    "# DBファイル名\n",
    "db_name = 'dsprogramming'\n",
    "\n",
    "# DBに接続する（指定したDBファイル存在しない場合は，新規に作成される）\n",
    "con = sqlite3.connect(path + db_name)\n",
    "\n",
    "# DBへの接続を閉じる\n",
    "con.close()"
   ]
  },
  {
   "cell_type": "code",
   "execution_count": 72,
   "metadata": {},
   "outputs": [],
   "source": [
    "# 1．DBに接続する\n",
    "con = sqlite3.connect(path + db_name)\n",
    "# print(type(con))\n",
    "\n",
    "# 2．SQLを実行するためのオブジェクトを取得\n",
    "cur = con.cursor()\n",
    "\n",
    "# 3．実行したいSQLを用意する\n",
    "# テーブルを作成するSQL\n",
    "# CREATE TABLE テーブル名（カラム名 型，...）;\n",
    "sql_create_table_cars = 'CREATE TABLE weather(id int, name text, price real);'\n",
    "\n",
    "# 4．SQLを実行する\n",
    "cur.execute(sql_create_table_cars)\n",
    "\n",
    "# 5．必要があればコミットする（データ変更等があった場合）\n",
    "# 今回は必要なし\n",
    "\n",
    "# 6．DBへの接続を閉じる\n",
    "con.close()"
   ]
  },
  {
   "cell_type": "code",
   "execution_count": 74,
   "metadata": {},
   "outputs": [],
   "source": [
    "url = 'https://www.data.jma.go.jp/obd/stats/etrn/view/hourly_s1.php?prec_no=45&block_no=47682&year=2024&month=1&day=12&view='\n",
    "for i in range(1, 2):  # 1ページ目だけを対象とする場合\n",
    "    weather_url = url.format(i)\n",
    "    response = requests.get(weather_url)"
   ]
  },
  {
   "cell_type": "code",
   "execution_count": 76,
   "metadata": {},
   "outputs": [],
   "source": [
    "res.encoding = 'utf-8'"
   ]
  },
  {
   "cell_type": "code",
   "execution_count": 79,
   "metadata": {},
   "outputs": [
    {
     "data": {
      "text/plain": [
       "[<tr class=\"mtx\"><th rowspan=\"2\" scope=\"col\">時</th><th colspan=\"2\" scope=\"colgroup\">気圧(hPa)</th><th rowspan=\"2\" scope=\"col\">降水量<br/>(mm)</th><th rowspan=\"2\" scope=\"col\">気温<br/>(℃)</th><th rowspan=\"2\" scope=\"col\">露点<br/>温度<br/>(℃)</th><th rowspan=\"2\" scope=\"col\">蒸気圧<br/>(hPa)</th><th rowspan=\"2\" scope=\"col\">湿度<br/>(％)</th><th colspan=\"2\" scope=\"colgroup\">風向・風速(m/s)</th><th rowspan=\"2\" scope=\"col\">日照<br/>時間<br/>(h)</th><th rowspan=\"2\" scope=\"col\">全天<br/>日射量<br/>(MJ/㎡)</th><th colspan=\"2\" scope=\"colgroup\">雪(cm)</th><th rowspan=\"2\" scope=\"col\">天気</th><th rowspan=\"2\" scope=\"col\">雲量</th><th rowspan=\"2\" scope=\"col\">視程<br/>(km)</th></tr>,\n",
       " <tr class=\"mtx\"><th scope=\"col\">現地</th><th scope=\"col\">海面</th><th scope=\"col\">風速</th><th scope=\"col\">風向</th><th scope=\"col\">降雪</th><th scope=\"col\">積雪</th></tr>,\n",
       " <tr class=\"mtx\" style=\"text-align:right;\"><td style=\"white-space:nowrap\">1</td><td class=\"data_0_0\">1011.8</td><td class=\"data_0_0\">1012.6</td><td class=\"data_0_0\">--</td><td class=\"data_0_0\">4.1</td><td class=\"data_0_0\">-5.9</td><td class=\"data_0_0\">3.9</td><td class=\"data_0_0\">48</td><td class=\"data_0_0\">1.7</td><td class=\"data_0_0\" style=\"text-align:center\">北北西</td><td class=\"data_0_0\"></td><td class=\"data_0_0\"></td><td class=\"data_0_0\">--</td><td class=\"data_0_0\">--</td><td class=\"data_0_0\"><img alt=\"晴れ\" src=\"../../data/image/tenki/large/F8A0.gif\"/></td><td class=\"data_0_0\"></td><td class=\"data_0_0\">20.0</td></tr>,\n",
       " <tr class=\"mtx\" style=\"text-align:right;\"><td style=\"white-space:nowrap\">2</td><td class=\"data_0_0\">1012.2</td><td class=\"data_0_0\">1013.0</td><td class=\"data_0_0\">--</td><td class=\"data_0_0\">2.8</td><td class=\"data_0_0\">-5.6</td><td class=\"data_0_0\">4.0</td><td class=\"data_0_0\">54</td><td class=\"data_0_0\">2.7</td><td class=\"data_0_0\" style=\"text-align:center\">北北西</td><td class=\"data_0_0\"></td><td class=\"data_0_0\"></td><td class=\"data_0_0\">--</td><td class=\"data_0_0\">--</td><td class=\"data_0_0\"><img alt=\"晴れ\" src=\"../../data/image/tenki/large/F8A0.gif\"/></td><td class=\"data_0_0\"></td><td class=\"data_0_0\">20.0</td></tr>,\n",
       " <tr class=\"mtx\" style=\"text-align:right;\"><td style=\"white-space:nowrap\">3</td><td class=\"data_0_0\">1011.1</td><td class=\"data_0_0\">1011.9</td><td class=\"data_0_0\">--</td><td class=\"data_0_0\">2.4</td><td class=\"data_0_0\">-6.4</td><td class=\"data_0_0\">3.8</td><td class=\"data_0_0\">52</td><td class=\"data_0_0\">1.3</td><td class=\"data_0_0\" style=\"text-align:center\">北</td><td class=\"data_0_0\"></td><td class=\"data_0_0\"></td><td class=\"data_0_0\">--</td><td class=\"data_0_0\">--</td><td class=\"data_0_0\"><img alt=\"晴れ\" src=\"../../data/image/tenki/large/F8A0.gif\"/></td><td class=\"data_0_0\"></td><td class=\"data_0_0\">20.0</td></tr>,\n",
       " <tr class=\"mtx\" style=\"text-align:right;\"><td style=\"white-space:nowrap\">4</td><td class=\"data_0_0\">1010.9</td><td class=\"data_0_0\">1011.7</td><td class=\"data_0_0\">--</td><td class=\"data_0_0\">2.1</td><td class=\"data_0_0\">-6.2</td><td class=\"data_0_0\">3.8</td><td class=\"data_0_0\">54</td><td class=\"data_0_0\">1.7</td><td class=\"data_0_0\" style=\"text-align:center\">北北西</td><td class=\"data_0_0\"></td><td class=\"data_0_0\"></td><td class=\"data_0_0\">--</td><td class=\"data_0_0\">--</td><td class=\"data_0_0\"><img alt=\"晴れ\" src=\"../../data/image/tenki/large/F8A0.gif\"/></td><td class=\"data_0_0\"></td><td class=\"data_0_0\">20.0</td></tr>,\n",
       " <tr class=\"mtx\" style=\"text-align:right;\"><td style=\"white-space:nowrap\">5</td><td class=\"data_0_0\">1010.5</td><td class=\"data_0_0\">1011.3</td><td class=\"data_0_0\">--</td><td class=\"data_0_0\">1.9</td><td class=\"data_0_0\">-6.4</td><td class=\"data_0_0\">3.8</td><td class=\"data_0_0\">54</td><td class=\"data_0_0\">1.7</td><td class=\"data_0_0\" style=\"text-align:center\">北北西</td><td class=\"data_0_0\"></td><td class=\"data_0_0\"></td><td class=\"data_0_0\">--</td><td class=\"data_0_0\">--</td><td class=\"data_0_0\"><img alt=\"晴れ\" src=\"../../data/image/tenki/large/F8A0.gif\"/></td><td class=\"data_0_0\"></td><td class=\"data_0_0\">20.0</td></tr>,\n",
       " <tr class=\"mtx\" style=\"text-align:right;\"><td style=\"white-space:nowrap\">6</td><td class=\"data_0_0\">1010.3</td><td class=\"data_0_0\">1011.1</td><td class=\"data_0_0\">--</td><td class=\"data_0_0\">1.7</td><td class=\"data_0_0\">-7.3</td><td class=\"data_0_0\">3.5</td><td class=\"data_0_0\">51</td><td class=\"data_0_0\">3.9</td><td class=\"data_0_0\" style=\"text-align:center\">北北西</td><td class=\"data_0_0\"></td><td class=\"data_0_0\"></td><td class=\"data_0_0\">--</td><td class=\"data_0_0\">--</td><td class=\"data_0_0\"><img alt=\"晴れ\" src=\"../../data/image/tenki/large/F8A0.gif\"/></td><td class=\"data_0_0\"></td><td class=\"data_0_0\">20.0</td></tr>,\n",
       " <tr class=\"mtx\" style=\"text-align:right;\"><td style=\"white-space:nowrap\">7</td><td class=\"data_0_0\">1010.2</td><td class=\"data_0_0\">1011.0</td><td class=\"data_0_0\">--</td><td class=\"data_0_0\">1.3</td><td class=\"data_0_0\">-6.7</td><td class=\"data_0_0\">3.7</td><td class=\"data_0_0\">55</td><td class=\"data_0_0\">1.9</td><td class=\"data_0_0\" style=\"text-align:center\">北北西</td><td class=\"data_0_0\">0.0</td><td class=\"data_0_0\"></td><td class=\"data_0_0\">--</td><td class=\"data_0_0\">--</td><td class=\"data_0_0\"><img alt=\"晴れ\" src=\"../../data/image/tenki/large/F8A0.gif\"/></td><td class=\"data_0_0\"></td><td class=\"data_0_0\">20.0</td></tr>,\n",
       " <tr class=\"mtx\" style=\"text-align:right;\"><td style=\"white-space:nowrap\">8</td><td class=\"data_0_0\">1010.0</td><td class=\"data_0_0\">1010.8</td><td class=\"data_0_0\">--</td><td class=\"data_0_0\">2.1</td><td class=\"data_0_0\">-5.7</td><td class=\"data_0_0\">4.0</td><td class=\"data_0_0\">56</td><td class=\"data_0_0\">2.0</td><td class=\"data_0_0\" style=\"text-align:center\">北西</td><td class=\"data_0_0\">1.0</td><td class=\"data_0_0\"></td><td class=\"data_0_0\">--</td><td class=\"data_0_0\">--</td><td class=\"data_0_0\"><img alt=\"晴れ\" src=\"../../data/image/tenki/large/F8A0.gif\"/></td><td class=\"data_0_0\"></td><td class=\"data_0_0\">20.0</td></tr>,\n",
       " <tr class=\"mtx\" style=\"text-align:right;\"><td style=\"white-space:nowrap\">9</td><td class=\"data_0_0\">1009.7</td><td class=\"data_0_0\">1010.5</td><td class=\"data_0_0\">--</td><td class=\"data_0_0\">4.2</td><td class=\"data_0_0\">-6.4</td><td class=\"data_0_0\">3.8</td><td class=\"data_0_0\">46</td><td class=\"data_0_0\">1.4</td><td class=\"data_0_0\" style=\"text-align:center\">北北西</td><td class=\"data_0_0\">1.0</td><td class=\"data_0_0\"></td><td class=\"data_0_0\">--</td><td class=\"data_0_0\">--</td><td class=\"data_0_0\"><img alt=\"晴れ\" src=\"../../data/image/tenki/large/F8A0.gif\"/></td><td class=\"data_0_0\"></td><td class=\"data_0_0\">20.0</td></tr>,\n",
       " <tr class=\"mtx\" style=\"text-align:right;\"><td style=\"white-space:nowrap\">10</td><td class=\"data_0_0\">1008.8</td><td class=\"data_0_0\">1009.5</td><td class=\"data_0_0\">--</td><td class=\"data_0_0\">6.8</td><td class=\"data_0_0\">-5.2</td><td class=\"data_0_0\">4.2</td><td class=\"data_0_0\">42</td><td class=\"data_0_0\">0.9</td><td class=\"data_0_0\" style=\"text-align:center\">西</td><td class=\"data_0_0\">1.0</td><td class=\"data_0_0\"></td><td class=\"data_0_0\">--</td><td class=\"data_0_0\">--</td><td class=\"data_0_0\"><img alt=\"晴れ\" src=\"../../data/image/tenki/large/F8A0.gif\"/></td><td class=\"data_0_0\"></td><td class=\"data_0_0\">20.0</td></tr>,\n",
       " <tr class=\"mtx\" style=\"text-align:right;\"><td style=\"white-space:nowrap\">11</td><td class=\"data_0_0\">1007.7</td><td class=\"data_0_0\">1008.4</td><td class=\"data_0_0\">--</td><td class=\"data_0_0\">7.9</td><td class=\"data_0_0\">-1.9</td><td class=\"data_0_0\">5.3</td><td class=\"data_0_0\">50</td><td class=\"data_0_0\">2.3</td><td class=\"data_0_0\" style=\"text-align:center\">西南西</td><td class=\"data_0_0\">1.0</td><td class=\"data_0_0\"></td><td class=\"data_0_0\">--</td><td class=\"data_0_0\">--</td><td class=\"data_0_0\"><img alt=\"晴れ\" src=\"../../data/image/tenki/large/F8A0.gif\"/></td><td class=\"data_0_0\"></td><td class=\"data_0_0\">20.0</td></tr>,\n",
       " <tr class=\"mtx\" style=\"text-align:right;\"><td style=\"white-space:nowrap\">12</td><td class=\"data_0_0\">1006.6</td><td class=\"data_0_0\">1007.3</td><td class=\"data_0_0\">--</td><td class=\"data_0_0\">9.2</td><td class=\"data_0_0\">-0.1</td><td class=\"data_0_0\">6.1</td><td class=\"data_0_0\">52</td><td class=\"data_0_0\">2.7</td><td class=\"data_0_0\" style=\"text-align:center\">西南西</td><td class=\"data_0_0\">1.0</td><td class=\"data_0_0\"></td><td class=\"data_0_0\">--</td><td class=\"data_0_0\">--</td><td class=\"data_0_0\"><img alt=\"晴れ\" src=\"../../data/image/tenki/large/F8A0.gif\"/></td><td class=\"data_0_0\"></td><td class=\"data_0_0\">20.0</td></tr>,\n",
       " <tr class=\"mtx\" style=\"text-align:right;\"><td style=\"white-space:nowrap\">13</td><td class=\"data_0_0\">1005.8</td><td class=\"data_0_0\">1006.5</td><td class=\"data_0_0\">--</td><td class=\"data_0_0\">11.2</td><td class=\"data_0_0\">2.0</td><td class=\"data_0_0\">7.1</td><td class=\"data_0_0\">53</td><td class=\"data_0_0\">2.4</td><td class=\"data_0_0\" style=\"text-align:center\">西北西</td><td class=\"data_0_0\">1.0</td><td class=\"data_0_0\"></td><td class=\"data_0_0\">--</td><td class=\"data_0_0\">--</td><td class=\"data_0_0\"><img alt=\"晴れ\" src=\"../../data/image/tenki/large/F8A0.gif\"/></td><td class=\"data_0_0\"></td><td class=\"data_0_0\">20.0</td></tr>,\n",
       " <tr class=\"mtx\" style=\"text-align:right;\"><td style=\"white-space:nowrap\">14</td><td class=\"data_0_0\">1005.2</td><td class=\"data_0_0\">1005.9</td><td class=\"data_0_0\">--</td><td class=\"data_0_0\">12.3</td><td class=\"data_0_0\">3.5</td><td class=\"data_0_0\">7.9</td><td class=\"data_0_0\">55</td><td class=\"data_0_0\">2.5</td><td class=\"data_0_0\" style=\"text-align:center\">西</td><td class=\"data_0_0\">1.0</td><td class=\"data_0_0\"></td><td class=\"data_0_0\">--</td><td class=\"data_0_0\">--</td><td class=\"data_0_0\"><img alt=\"晴れ\" src=\"../../data/image/tenki/large/F8A0.gif\"/></td><td class=\"data_0_0\"></td><td class=\"data_0_0\">20.0</td></tr>,\n",
       " <tr class=\"mtx\" style=\"text-align:right;\"><td style=\"white-space:nowrap\">15</td><td class=\"data_0_0\">1005.6</td><td class=\"data_0_0\">1006.3</td><td class=\"data_0_0\">--</td><td class=\"data_0_0\">13.8</td><td class=\"data_0_0\">3.9</td><td class=\"data_0_0\">8.0</td><td class=\"data_0_0\">51</td><td class=\"data_0_0\">5.5</td><td class=\"data_0_0\" style=\"text-align:center\">南西</td><td class=\"data_0_0\">1.0</td><td class=\"data_0_0\"></td><td class=\"data_0_0\">--</td><td class=\"data_0_0\">--</td><td class=\"data_0_0\"><img alt=\"晴れ\" src=\"../../data/image/tenki/large/F8A0.gif\"/></td><td class=\"data_0_0\"></td><td class=\"data_0_0\">20.0</td></tr>,\n",
       " <tr class=\"mtx\" style=\"text-align:right;\"><td style=\"white-space:nowrap\">16</td><td class=\"data_0_0\">1005.7</td><td class=\"data_0_0\">1006.4</td><td class=\"data_0_0\">--</td><td class=\"data_0_0\">13.3</td><td class=\"data_0_0\">4.7</td><td class=\"data_0_0\">8.6</td><td class=\"data_0_0\">56</td><td class=\"data_0_0\">4.2</td><td class=\"data_0_0\" style=\"text-align:center\">南西</td><td class=\"data_0_0\">1.0</td><td class=\"data_0_0\"></td><td class=\"data_0_0\">--</td><td class=\"data_0_0\">--</td><td class=\"data_0_0\"><img alt=\"晴れ\" src=\"../../data/image/tenki/large/F8A0.gif\"/></td><td class=\"data_0_0\"></td><td class=\"data_0_0\">20.0</td></tr>,\n",
       " <tr class=\"mtx\" style=\"text-align:right;\"><td style=\"white-space:nowrap\">17</td><td class=\"data_0_0\">1005.9</td><td class=\"data_0_0\">1006.6</td><td class=\"data_0_0\">--</td><td class=\"data_0_0\">12.7</td><td class=\"data_0_0\">4.4</td><td class=\"data_0_0\">8.4</td><td class=\"data_0_0\">57</td><td class=\"data_0_0\">3.6</td><td class=\"data_0_0\" style=\"text-align:center\">南西</td><td class=\"data_0_0\">0.6</td><td class=\"data_0_0\"></td><td class=\"data_0_0\">--</td><td class=\"data_0_0\">--</td><td class=\"data_0_0\"><img alt=\"晴れ\" src=\"../../data/image/tenki/large/F8A0.gif\"/></td><td class=\"data_0_0\"></td><td class=\"data_0_0\">20.0</td></tr>,\n",
       " <tr class=\"mtx\" style=\"text-align:right;\"><td style=\"white-space:nowrap\">18</td><td class=\"data_0_0\">1006.1</td><td class=\"data_0_0\">1006.8</td><td class=\"data_0_0\">--</td><td class=\"data_0_0\">12.8</td><td class=\"data_0_0\">3.7</td><td class=\"data_0_0\">8.0</td><td class=\"data_0_0\">54</td><td class=\"data_0_0\">3.4</td><td class=\"data_0_0\" style=\"text-align:center\">南西</td><td class=\"data_0_0\"></td><td class=\"data_0_0\"></td><td class=\"data_0_0\">--</td><td class=\"data_0_0\">--</td><td class=\"data_0_0\"><img alt=\"晴れ\" src=\"../../data/image/tenki/large/F8A0.gif\"/></td><td class=\"data_0_0\"></td><td class=\"data_0_0\">20.0</td></tr>,\n",
       " <tr class=\"mtx\" style=\"text-align:right;\"><td style=\"white-space:nowrap\">19</td><td class=\"data_0_0\">1006.8</td><td class=\"data_0_0\">1007.5</td><td class=\"data_0_0\">--</td><td class=\"data_0_0\">12.5</td><td class=\"data_0_0\">6.8</td><td class=\"data_0_0\">9.9</td><td class=\"data_0_0\">68</td><td class=\"data_0_0\">2.0</td><td class=\"data_0_0\" style=\"text-align:center\">西南西</td><td class=\"data_0_0\"></td><td class=\"data_0_0\"></td><td class=\"data_0_0\">--</td><td class=\"data_0_0\">--</td><td class=\"data_0_0\"><img alt=\"晴れ\" src=\"../../data/image/tenki/large/F8A0.gif\"/></td><td class=\"data_0_0\"></td><td class=\"data_0_0\">20.0</td></tr>,\n",
       " <tr class=\"mtx\" style=\"text-align:right;\"><td style=\"white-space:nowrap\">20</td><td class=\"data_0_0\">1007.3</td><td class=\"data_0_0\">1008.0</td><td class=\"data_0_0\">--</td><td class=\"data_0_0\">10.6</td><td class=\"data_0_0\">4.7</td><td class=\"data_0_0\">8.6</td><td class=\"data_0_0\">67</td><td class=\"data_0_0\">1.4</td><td class=\"data_0_0\" style=\"text-align:center\">北</td><td class=\"data_0_0\"></td><td class=\"data_0_0\"></td><td class=\"data_0_0\">--</td><td class=\"data_0_0\">--</td><td class=\"data_0_0\"><img alt=\"晴れ\" src=\"../../data/image/tenki/large/F8A0.gif\"/></td><td class=\"data_0_0\"></td><td class=\"data_0_0\">20.0</td></tr>,\n",
       " <tr class=\"mtx\" style=\"text-align:right;\"><td style=\"white-space:nowrap\">21</td><td class=\"data_0_0\">1007.5</td><td class=\"data_0_0\">1008.2</td><td class=\"data_0_0\">--</td><td class=\"data_0_0\">9.9</td><td class=\"data_0_0\">0.5</td><td class=\"data_0_0\">6.3</td><td class=\"data_0_0\">52</td><td class=\"data_0_0\">1.7</td><td class=\"data_0_0\" style=\"text-align:center\">北北東</td><td class=\"data_0_0\"></td><td class=\"data_0_0\"></td><td class=\"data_0_0\">--</td><td class=\"data_0_0\">--</td><td class=\"data_0_0\"><img alt=\"晴れ\" src=\"../../data/image/tenki/large/F8A0.gif\"/></td><td class=\"data_0_0\"></td><td class=\"data_0_0\">20.0</td></tr>,\n",
       " <tr class=\"mtx\" style=\"text-align:right;\"><td style=\"white-space:nowrap\">22</td><td class=\"data_0_0\">1007.9</td><td class=\"data_0_0\">1008.6</td><td class=\"data_0_0\">--</td><td class=\"data_0_0\">9.0</td><td class=\"data_0_0\">0.5</td><td class=\"data_0_0\">6.3</td><td class=\"data_0_0\">55</td><td class=\"data_0_0\">2.3</td><td class=\"data_0_0\" style=\"text-align:center\">北北東</td><td class=\"data_0_0\"></td><td class=\"data_0_0\"></td><td class=\"data_0_0\">--</td><td class=\"data_0_0\">--</td><td class=\"data_0_0\"><img alt=\"晴れ\" src=\"../../data/image/tenki/large/F8A0.gif\"/></td><td class=\"data_0_0\"></td><td class=\"data_0_0\">20.0</td></tr>,\n",
       " <tr class=\"mtx\" style=\"text-align:right;\"><td style=\"white-space:nowrap\">23</td><td class=\"data_0_0\">1008.4</td><td class=\"data_0_0\">1009.1</td><td class=\"data_0_0\">--</td><td class=\"data_0_0\">7.4</td><td class=\"data_0_0\">-0.8</td><td class=\"data_0_0\">5.8</td><td class=\"data_0_0\">56</td><td class=\"data_0_0\">2.1</td><td class=\"data_0_0\" style=\"text-align:center\">北</td><td class=\"data_0_0\"></td><td class=\"data_0_0\"></td><td class=\"data_0_0\">--</td><td class=\"data_0_0\">--</td><td class=\"data_0_0\"><img alt=\"晴れ\" src=\"../../data/image/tenki/large/F8A0.gif\"/></td><td class=\"data_0_0\"></td><td class=\"data_0_0\">20.0</td></tr>,\n",
       " <tr class=\"mtx\" style=\"text-align:right;\"><td style=\"white-space:nowrap\">24</td><td class=\"data_0_0\">1008.6</td><td class=\"data_0_0\">1009.3</td><td class=\"data_0_0\">--</td><td class=\"data_0_0\">6.5</td><td class=\"data_0_0\">-0.9</td><td class=\"data_0_0\">5.7</td><td class=\"data_0_0\">59</td><td class=\"data_0_0\">2.4</td><td class=\"data_0_0\" style=\"text-align:center\">北東</td><td class=\"data_0_0\"></td><td class=\"data_0_0\"></td><td class=\"data_0_0\">--</td><td class=\"data_0_0\">--</td><td class=\"data_0_0\"><img alt=\"晴れ\" src=\"../../data/image/tenki/large/F8A0.gif\"/></td><td class=\"data_0_0\"></td><td class=\"data_0_0\">20.0</td></tr>,\n",
       " <ul class=\"pagelink mtx\"><li><a href=\"../../data/mdrr/man/first.html\">利用される方へ</a></li></ul>,\n",
       " <ul class=\"pagelink mtx\"><li><a href=\"../../data/mdrr/faq/index_k.html\">よくある質問（FAQ）</a></li></ul>,\n",
       " <ul class=\"pagelink mtx\"><li><a href=\"../../data/kaisetu/index.html\">気象観測統計の解説</a></li></ul>,\n",
       " <ul class=\"pagelink mtx\"><li><a href=\"//www.jma.go.jp/jma/press/tenko.html\">年・季節・各月の天候</a></li></ul>]"
      ]
     },
     "execution_count": 79,
     "metadata": {},
     "output_type": "execute_result"
    }
   ],
   "source": [
    "soup.find_all(attrs={'class': 'mtx'})"
   ]
  },
  {
   "cell_type": "code",
   "execution_count": null,
   "metadata": {},
   "outputs": [],
   "source": [
    "mtx = soup.find_all('tr', attrs={'class': 'mtx'})\n",
    "mtx"
   ]
  },
  {
   "cell_type": "code",
   "execution_count": null,
   "metadata": {},
   "outputs": [],
   "source": [
    "import sqlite3\n",
    "\n",
    "# SQLiteデータベースに接続\n",
    "conn = sqlite3.connect('dsprogramming')\n",
    "c = conn.cursor()\n",
    "\n",
    "# テーブルからデータを取得\n",
    "c.execute(\"SELECT * weather \")\n",
    "rows = c.fetchall()\n",
    "\n",
    "# データを表示\n",
    "for row in rows:\n",
    "    print(\"Repository:\", row[1])\n",
    "    print(\"Language:\", row[2])\n",
    "    print(\"Stars:\", row[3])\n",
    "    print(\"----------------\")\n",
    "\n",
    "# データベースのコネクションを閉じる\n",
    "conn.close()"
   ]
  }
 ],
 "metadata": {
  "kernelspec": {
   "display_name": "Python 3",
   "language": "python",
   "name": "python3"
  },
  "language_info": {
   "codemirror_mode": {
    "name": "ipython",
    "version": 3
   },
   "file_extension": ".py",
   "mimetype": "text/x-python",
   "name": "python",
   "nbconvert_exporter": "python",
   "pygments_lexer": "ipython3",
   "version": "3.11.3"
  }
 },
 "nbformat": 4,
 "nbformat_minor": 2
}
